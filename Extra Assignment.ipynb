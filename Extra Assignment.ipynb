{
 "cells": [
  {
   "cell_type": "code",
   "execution_count": 1,
   "id": "18761265",
   "metadata": {},
   "outputs": [
    {
     "name": "stdout",
     "output_type": "stream",
     "text": [
      "HOPE AI\n"
     ]
    }
   ],
   "source": [
    "print(\"HOPE AI\")"
   ]
  },
  {
   "cell_type": "code",
   "execution_count": 3,
   "id": "c6756ec4",
   "metadata": {},
   "outputs": [
    {
     "name": "stdout",
     "output_type": "stream",
     "text": [
      "Enter your institute name :  HOPE AI\n"
     ]
    }
   ],
   "source": [
    "Institute=input(\"Enter your institute name :  \" )"
   ]
  },
  {
   "cell_type": "code",
   "execution_count": 4,
   "id": "b8079e65",
   "metadata": {},
   "outputs": [
    {
     "name": "stdout",
     "output_type": "stream",
     "text": [
      "Enter your name:Raj\n",
      "Enter your age:15\n",
      "Enter your school name:Guru School\n",
      "Enter your drgree:B.E CSE\n"
     ]
    }
   ],
   "source": [
    "Name=input(\"Enter your name:\" )\n",
    "Age=input(\"Enter your age:\" )\n",
    "school=input(\"Enter your school name:\" )\n",
    "drgree=input(\"Enter your drgree:\")\n"
   ]
  },
  {
   "cell_type": "code",
   "execution_count": 5,
   "id": "d56a258b",
   "metadata": {},
   "outputs": [
    {
     "name": "stdout",
     "output_type": "stream",
     "text": [
      "a=  43\n",
      "b=  34\n",
      "add =  77\n"
     ]
    }
   ],
   "source": [
    "a=43\n",
    "b=34\n",
    "add=int(a+b)\n",
    "print(\"a= \",a)\n",
    "print(\"b= \",b)\n",
    "print(\"add = \",add)\n",
    "\n"
   ]
  },
  {
   "cell_type": "code",
   "execution_count": 7,
   "id": "00b35157",
   "metadata": {},
   "outputs": [
    {
     "name": "stdout",
     "output_type": "stream",
     "text": [
      "a=  43\n",
      "b=  34\n",
      "Sub =  9\n"
     ]
    }
   ],
   "source": [
    "a=43\n",
    "b=34\n",
    "Sub=int(a-b)\n",
    "print(\"a= \",a)\n",
    "print(\"b= \",b)\n",
    "print(\"Sub = \",Sub)\n"
   ]
  },
  {
   "cell_type": "code",
   "execution_count": 8,
   "id": "5cf8b21c",
   "metadata": {},
   "outputs": [
    {
     "name": "stdout",
     "output_type": "stream",
     "text": [
      "a=  63\n",
      "b=  97\n",
      "Mul =  6111\n"
     ]
    }
   ],
   "source": [
    "a=63\n",
    "b=97\n",
    "Mul=int(a*b)\n",
    "print(\"a= \",a)\n",
    "print(\"b= \",b)\n",
    "print(\"Mul = \",Mul)"
   ]
  },
  {
   "cell_type": "code",
   "execution_count": 10,
   "id": "c083b09b",
   "metadata": {},
   "outputs": [
    {
     "name": "stdout",
     "output_type": "stream",
     "text": [
      "a=  76\n",
      "b=  31\n",
      "Float Div =  2.4516129032258065\n"
     ]
    }
   ],
   "source": [
    "a=76\n",
    "b=31\n",
    "Div=float(a/b)\n",
    "print(\"a= \",a)\n",
    "print(\"b= \",b)\n",
    "print(\"Float Div = \",Div)"
   ]
  },
  {
   "cell_type": "code",
   "execution_count": 11,
   "id": "c323f024",
   "metadata": {},
   "outputs": [
    {
     "name": "stdout",
     "output_type": "stream",
     "text": [
      "a=  76\n",
      "b=  31\n",
      "Floor Div =  2\n"
     ]
    }
   ],
   "source": [
    "a=76\n",
    "b=31\n",
    "Div=int(a/b)\n",
    "print(\"a= \",a)\n",
    "print(\"b= \",b)\n",
    "print(\"Floor Div = \",Div)"
   ]
  },
  {
   "cell_type": "code",
   "execution_count": 12,
   "id": "f447a8f0",
   "metadata": {},
   "outputs": [
    {
     "name": "stdout",
     "output_type": "stream",
     "text": [
      "a=  76\n",
      "b=  31\n",
      "Modulo =  14\n"
     ]
    }
   ],
   "source": [
    "a=76\n",
    "b=31\n",
    "Div=int(a%b)\n",
    "print(\"a= \",a)\n",
    "print(\"b= \",b)\n",
    "print(\"Modulo = \",Div)"
   ]
  },
  {
   "cell_type": "code",
   "execution_count": 14,
   "id": "3b849276",
   "metadata": {},
   "outputs": [
    {
     "name": "stdout",
     "output_type": "stream",
     "text": [
      "a=  4\n",
      "b=  4\n",
      "Power =  256\n"
     ]
    }
   ],
   "source": [
    "a=4\n",
    "b=4\n",
    "power=int(a**b)\n",
    "print(\"a= \",a)\n",
    "print(\"b= \",b)\n",
    "print(\"Power = \",power)"
   ]
  },
  {
   "cell_type": "code",
   "execution_count": null,
   "id": "7897b74d",
   "metadata": {},
   "outputs": [],
   "source": []
  }
 ],
 "metadata": {
  "kernelspec": {
   "display_name": "Python 3",
   "language": "python",
   "name": "python3"
  },
  "language_info": {
   "codemirror_mode": {
    "name": "ipython",
    "version": 3
   },
   "file_extension": ".py",
   "mimetype": "text/x-python",
   "name": "python",
   "nbconvert_exporter": "python",
   "pygments_lexer": "ipython3",
   "version": "3.11.5"
  }
 },
 "nbformat": 4,
 "nbformat_minor": 5
}

{
 "cells": [
  {
   "cell_type": "code",
   "execution_count": 1,
   "id": "8765c948",
   "metadata": {},
   "outputs": [
    {
     "name": "stdout",
     "output_type": "stream",
     "text": [
      "Hello Sembukutty Iyyanar\n"
     ]
    }
   ],
   "source": [
    "print(\"Hello Sembukutty Iyyanar\")"
   ]
  },
  {
   "cell_type": "code",
   "execution_count": 2,
   "id": "8b07e989",
   "metadata": {},
   "outputs": [
    {
     "name": "stdout",
     "output_type": "stream",
     "text": [
      "Rajendran\n"
     ]
    }
   ],
   "source": [
    "print(\"Rajendran\")"
   ]
  },
  {
   "cell_type": "code",
   "execution_count": 3,
   "id": "ab089ab6",
   "metadata": {},
   "outputs": [
    {
     "ename": "SyntaxError",
     "evalue": "unterminated string literal (detected at line 1) (3026210719.py, line 1)",
     "output_type": "error",
     "traceback": [
      "\u001b[1;36m  Cell \u001b[1;32mIn[3], line 1\u001b[1;36m\u001b[0m\n\u001b[1;33m    print(\"Annapackiam\u001b[0m\n\u001b[1;37m          ^\u001b[0m\n\u001b[1;31mSyntaxError\u001b[0m\u001b[1;31m:\u001b[0m unterminated string literal (detected at line 1)\n"
     ]
    }
   ],
   "source": [
    "print(\"Annapackiam\n",
    "      \")"
   ]
  },
  {
   "cell_type": "code",
   "execution_count": 4,
   "id": "adcafaf9",
   "metadata": {},
   "outputs": [
    {
     "name": "stdout",
     "output_type": "stream",
     "text": [
      "Annapackiam\n"
     ]
    }
   ],
   "source": [
    "print(\"Annapackiam\")"
   ]
  },
  {
   "cell_type": "code",
   "execution_count": 5,
   "id": "cd21f231",
   "metadata": {},
   "outputs": [
    {
     "name": "stdout",
     "output_type": "stream",
     "text": [
      "Lets start\n"
     ]
    }
   ],
   "source": [
    "print(\"Lets start\")"
   ]
  }
 ],
 "metadata": {
  "kernelspec": {
   "display_name": "Python 3",
   "language": "python",
   "name": "python3"
  },
  "language_info": {
   "codemirror_mode": {
    "name": "ipython",
    "version": 3
   },
   "file_extension": ".py",
   "mimetype": "text/x-python",
   "name": "python",
   "nbconvert_exporter": "python",
   "pygments_lexer": "ipython3",
   "version": "3.11.5"
  }
 },
 "nbformat": 4,
 "nbformat_minor": 5
}

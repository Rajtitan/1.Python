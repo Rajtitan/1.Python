{
 "cells": [
  {
   "cell_type": "code",
   "execution_count": null,
   "id": "eb4b5a9e",
   "metadata": {},
   "outputs": [],
   "source": [
    "Name=input(\"Whats your name: \")\n",
    "Age=int(input(\"Whats your Age: \"))\n",
    "Son_Name=input(\"Whats your sons name: \")\n",
    "Sons_Age=int(input(\"Whats your sons age: \"))\n",
    "Total_Age=Age+Sons_Age\n",
    "print(\"Sum of your age and your sons age is: \", Total_Age)"
   ]
  },
  {
   "cell_type": "code",
   "execution_count": null,
   "id": "66ea2f09",
   "metadata": {},
   "outputs": [],
   "source": [
    "Age=int(input(\"Please input your age\"))\n",
    "if (Age<18):\n",
    "    print(\"Child\")\n",
    "else:\n",
    "    print(\"Adult\")"
   ]
  },
  {
   "cell_type": "code",
   "execution_count": 4,
   "id": "916bf0d1",
   "metadata": {},
   "outputs": [
    {
     "name": "stdout",
     "output_type": "stream",
     "text": [
      "Please input your age17\n",
      "Child\n"
     ]
    }
   ],
   "source": [
    "Age=int(input(\"Please input your age\"))\n",
    "if (Age<18):\n",
    "    print(\"Child\")\n",
    "elif(Age<35):\n",
    "    print(\"Adult\")\n",
    "elif(Age<59):\n",
    "    print(\"Citizen\")\n",
    "else:    \n",
    "    print(\"Senior Citizen\")\n",
    "    \n",
    "    "
   ]
  },
  {
   "cell_type": "code",
   "execution_count": null,
   "id": "d4214d2c",
   "metadata": {},
   "outputs": [],
   "source": []
  },
  {
   "cell_type": "code",
   "execution_count": null,
   "id": "b041443c",
   "metadata": {},
   "outputs": [],
   "source": []
  },
  {
   "cell_type": "code",
   "execution_count": null,
   "id": "2c76ece6",
   "metadata": {},
   "outputs": [],
   "source": []
  }
 ],
 "metadata": {
  "kernelspec": {
   "display_name": "Python 3",
   "language": "python",
   "name": "python3"
  },
  "language_info": {
   "codemirror_mode": {
    "name": "ipython",
    "version": 3
   },
   "file_extension": ".py",
   "mimetype": "text/x-python",
   "name": "python",
   "nbconvert_exporter": "python",
   "pygments_lexer": "ipython3",
   "version": "3.11.5"
  }
 },
 "nbformat": 4,
 "nbformat_minor": 5
}

{
 "cells": [
  {
   "cell_type": "code",
   "execution_count": 4,
   "id": "406b2508",
   "metadata": {},
   "outputs": [
    {
     "name": "stdout",
     "output_type": "stream",
     "text": [
      "HEIGHT :21\n",
      "BREADTH :22\n",
      "AREA OF TRIANGE =  231\n",
      "Height1 =23\n",
      "Height2 =42\n",
      "Height1 =54\n",
      "PERIMETER OF TRIANGLE IS : 119\n"
     ]
    }
   ],
   "source": [
    "from LibTestFunction import multifunctions\n",
    "multifunctions.triangle()"
   ]
  },
  {
   "cell_type": "markdown",
   "id": "047026c5",
   "metadata": {},
   "source": [
    "multifunctions.triangle()"
   ]
  },
  {
   "cell_type": "code",
   "execution_count": 5,
   "id": "532c2c27",
   "metadata": {},
   "outputs": [
    {
     "name": "stdout",
     "output_type": "stream",
     "text": [
      "Enter a number :1234\n",
      "1234 is a even number\n"
     ]
    },
    {
     "data": {
      "text/plain": [
       "(1234, 'is a even number')"
      ]
     },
     "execution_count": 5,
     "metadata": {},
     "output_type": "execute_result"
    }
   ],
   "source": [
    "multifunctions.OddEven()"
   ]
  },
  {
   "cell_type": "code",
   "execution_count": 6,
   "id": "fe9505d5",
   "metadata": {},
   "outputs": [
    {
     "name": "stdout",
     "output_type": "stream",
     "text": [
      "Subject1=97\n",
      "Subject2=89\n",
      "Subject3=95\n",
      "Subject4=95\n",
      "Subject5=93\n",
      "469\n",
      "93.8\n"
     ]
    }
   ],
   "source": [
    "multifunctions.FindPercent()"
   ]
  },
  {
   "cell_type": "code",
   "execution_count": null,
   "id": "eed9e650",
   "metadata": {},
   "outputs": [],
   "source": []
  }
 ],
 "metadata": {
  "kernelspec": {
   "display_name": "Python 3",
   "language": "python",
   "name": "python3"
  },
  "language_info": {
   "codemirror_mode": {
    "name": "ipython",
    "version": 3
   },
   "file_extension": ".py",
   "mimetype": "text/x-python",
   "name": "python",
   "nbconvert_exporter": "python",
   "pygments_lexer": "ipython3",
   "version": "3.11.5"
  }
 },
 "nbformat": 4,
 "nbformat_minor": 5
}

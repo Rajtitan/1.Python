{
 "cells": [
  {
   "cell_type": "code",
   "execution_count": 5,
   "id": "56ce796b",
   "metadata": {},
   "outputs": [
    {
     "name": "stdout",
     "output_type": "stream",
     "text": [
      "VALUE :10\n",
      "Corret\n"
     ]
    }
   ],
   "source": [
    "i=int(input(\"VALUE :\"))\n",
    "if i==10:\n",
    "    print(\"Corret\")"
   ]
  },
  {
   "cell_type": "code",
   "execution_count": 6,
   "id": "9d6e35a4",
   "metadata": {},
   "outputs": [
    {
     "name": "stdout",
     "output_type": "stream",
     "text": [
      "Enter the password:HOPE@123\n",
      "your password is correct\n"
     ]
    }
   ],
   "source": [
    "PWD=input(\"Enter the password:\")\n",
    "if PWD==\"HOPE@123\":\n",
    "    print(\"your password is correct\")\n"
   ]
  },
  {
   "cell_type": "code",
   "execution_count": 9,
   "id": "72c6d6b0",
   "metadata": {},
   "outputs": [
    {
     "name": "stdout",
     "output_type": "stream",
     "text": [
      "age: 20\n",
      "Adult\n"
     ]
    }
   ],
   "source": [
    "AGE=int(input(\"age: \"))\n",
    "if AGE==20:\n",
    "    print(\"Adult\")\n"
   ]
  },
  {
   "cell_type": "code",
   "execution_count": 15,
   "id": "397af583",
   "metadata": {},
   "outputs": [
    {
     "name": "stdout",
     "output_type": "stream",
     "text": [
      "Enter any number :1\n",
      "No is positive\n"
     ]
    }
   ],
   "source": [
    "NUM=int(input(\"Enter any number :\"))\n",
    "if NUM>0:\n",
    "    print(\"No is positive\")\n",
    "else: \n",
    "    print(\"No is negative\") \n"
   ]
  },
  {
   "cell_type": "code",
   "execution_count": 16,
   "id": "3964ca0c",
   "metadata": {},
   "outputs": [
    {
     "name": "stdout",
     "output_type": "stream",
     "text": [
      "Enter a number to check: 22\n",
      "The number is not divisible by 5\n"
     ]
    }
   ],
   "source": [
    "ENT_NUM=int(input(\"Enter a number to check: \"))\n",
    "if (ENT_NUM%5)>0:\n",
    "    print(\"The number is not divisible by 5\")\n"
   ]
  },
  {
   "cell_type": "code",
   "execution_count": null,
   "id": "1f6b5baf",
   "metadata": {},
   "outputs": [],
   "source": []
  }
 ],
 "metadata": {
  "kernelspec": {
   "display_name": "Python 3",
   "language": "python",
   "name": "python3"
  },
  "language_info": {
   "codemirror_mode": {
    "name": "ipython",
    "version": 3
   },
   "file_extension": ".py",
   "mimetype": "text/x-python",
   "name": "python",
   "nbconvert_exporter": "python",
   "pygments_lexer": "ipython3",
   "version": "3.11.5"
  }
 },
 "nbformat": 4,
 "nbformat_minor": 5
}

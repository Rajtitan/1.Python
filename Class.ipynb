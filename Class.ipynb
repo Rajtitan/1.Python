{
 "cells": [
  {
   "cell_type": "code",
   "execution_count": 7,
   "id": "94d9e227",
   "metadata": {},
   "outputs": [],
   "source": [
    "class SubfieldsinAI():\n",
    "    def Subfields():\n",
    "        lists=[\"Machine Learning\",\"Neural Networks\",\"Vision\",\"Robotics\",\"Speech Processing\",\"Natural Language Processing\"]\n",
    "        print(\"Subfields in AI are:\")\n",
    "        for t in lists:\n",
    "            print(t)"
   ]
  },
  {
   "cell_type": "code",
   "execution_count": 8,
   "id": "8e3331de",
   "metadata": {},
   "outputs": [
    {
     "name": "stdout",
     "output_type": "stream",
     "text": [
      "Subfields in AI are:\n",
      "Machine Learning\n",
      "Neural Networks\n",
      "Vision\n",
      "Robotics\n",
      "Speech Processing\n",
      "Natural Language Processing\n"
     ]
    }
   ],
   "source": [
    "SubfieldsinAI.Subfields()"
   ]
  },
  {
   "cell_type": "code",
   "execution_count": 12,
   "id": "b0df0d4a",
   "metadata": {},
   "outputs": [],
   "source": [
    "class OddEven():\n",
    "    def OddEven():\n",
    "        a=int(input(\"Enter a number :\"))\n",
    "        if (a%2)==0:\n",
    "            print(a, \"is a even number\")\n",
    "            message=(a,\"is a even number\")\n",
    "        else:\n",
    "            print(\"odd\")\n",
    "            message=\"odd\"\n",
    "         "
   ]
  },
  {
   "cell_type": "code",
   "execution_count": 13,
   "id": "1e98c069",
   "metadata": {},
   "outputs": [
    {
     "name": "stdout",
     "output_type": "stream",
     "text": [
      "Enter a number :52452\n",
      "52452 is a even number\n"
     ]
    }
   ],
   "source": [
    "OddEven.OddEven()"
   ]
  },
  {
   "cell_type": "code",
   "execution_count": 14,
   "id": "dc8d6c2c",
   "metadata": {},
   "outputs": [],
   "source": [
    "class EligibilityForMarriage():\n",
    "    def Elegible():\n",
    "        Gender=input(\"YOUR GENDER:\")\n",
    "        Age=int(input(\"YOUR AGE:\"))\n",
    "        if Gender ==\"MALE\":\n",
    "            if Age < 27:\n",
    "                print(\"NOT ELIGIBLE\")\n",
    "                Message=\"NOT ELIGIBLE\"\n",
    "            else:\n",
    "                print(\"ELIGIBLE\")\n",
    "        if Gender ==\"FEMALE\":\n",
    "            if Age < 23:\n",
    "                print(\"NOT ELIGIBLE\")\n",
    "                Message=\"NOT ELIGIBLE\"               \n",
    "            else:\n",
    "                print(\"ELIGIBLE\")\n",
    "                Message=\"ELIGIBLE\"\n",
    "        return Message\n"
   ]
  },
  {
   "cell_type": "code",
   "execution_count": 15,
   "id": "b9c5de59",
   "metadata": {},
   "outputs": [
    {
     "name": "stdout",
     "output_type": "stream",
     "text": [
      "YOUR GENDER:MALE\n",
      "YOUR AGE:20\n",
      "NOT ELIGIBLE\n"
     ]
    },
    {
     "data": {
      "text/plain": [
       "'NOT ELIGIBLE'"
      ]
     },
     "execution_count": 15,
     "metadata": {},
     "output_type": "execute_result"
    }
   ],
   "source": [
    "EligibilityForMarriage.Elegible()"
   ]
  },
  {
   "cell_type": "code",
   "execution_count": 16,
   "id": "ef585ab7",
   "metadata": {},
   "outputs": [],
   "source": [
    "class FindPercent():\n",
    "    def percentage():\n",
    "        S1=int(input(\"Subject1=\"))\n",
    "        S2=int(input(\"Subject2=\"))\n",
    "        S3=int(input(\"Subject3=\"))\n",
    "        S4=int(input(\"Subject4=\"))\n",
    "        S5=int(input(\"Subject5=\"))    \n",
    "        TOTAL=int(S1+S2+S3+S4+S5)\n",
    "        PERCENT=float(TOTAL/5)\n",
    "        print(TOTAL)\n",
    "        print(PERCENT)\n",
    "    "
   ]
  },
  {
   "cell_type": "code",
   "execution_count": 17,
   "id": "8fe10ddf",
   "metadata": {},
   "outputs": [
    {
     "name": "stdout",
     "output_type": "stream",
     "text": [
      "Subject1=98\n",
      "Subject2=87\n",
      "Subject3=95\n",
      "Subject4=95\n",
      "Subject5=93\n",
      "468\n",
      "93.6\n"
     ]
    }
   ],
   "source": [
    "FindPercent.percentage()"
   ]
  },
  {
   "cell_type": "code",
   "execution_count": 18,
   "id": "a62c4a99",
   "metadata": {},
   "outputs": [],
   "source": [
    "class triangle():\n",
    "    def triangle():\n",
    "        H=int(input(\"HEIGHT :\"))\n",
    "        B=int(input(\"BREADTH :\"))\n",
    "        AREA =int(0.5*H*B)\n",
    "        print(\"AREA OF TRIANGE = \",AREA) \n",
    "        Height1=int(input(\"Height1 =\"))\n",
    "        Height2=int(input(\"Height2 =\"))\n",
    "        Breadth=int(input(\"Height1 =\"))\n",
    "        PERI=Height1+Height2+Breadth\n",
    "        print(\"PERIMETER OF TRIANGLE IS :\", PERI)"
   ]
  },
  {
   "cell_type": "code",
   "execution_count": 19,
   "id": "efc16230",
   "metadata": {},
   "outputs": [
    {
     "name": "stdout",
     "output_type": "stream",
     "text": [
      "HEIGHT :32\n",
      "BREADTH :34\n",
      "AREA OF TRIANGE =  544\n",
      "Height1 =2\n",
      "Height2 =4\n",
      "Height1 =4\n",
      "PERIMETER OF TRIANGLE IS : 10\n"
     ]
    }
   ],
   "source": [
    "triangle.triangle()"
   ]
  },
  {
   "cell_type": "code",
   "execution_count": null,
   "id": "7b8f0933",
   "metadata": {},
   "outputs": [],
   "source": []
  }
 ],
 "metadata": {
  "kernelspec": {
   "display_name": "Python 3",
   "language": "python",
   "name": "python3"
  },
  "language_info": {
   "codemirror_mode": {
    "name": "ipython",
    "version": 3
   },
   "file_extension": ".py",
   "mimetype": "text/x-python",
   "name": "python",
   "nbconvert_exporter": "python",
   "pygments_lexer": "ipython3",
   "version": "3.11.5"
  }
 },
 "nbformat": 4,
 "nbformat_minor": 5
}
